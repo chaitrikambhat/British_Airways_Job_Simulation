{
 "cells": [
  {
   "cell_type": "markdown",
   "id": "f83abcc4",
   "metadata": {},
   "source": [
    "# British Airways Data Science Simulation – Forage\n",
    "\n",
    "This notebook presents my solution to the **British Airways Data Science Virtual Experience Program** on Forage. It walks through data preprocessing, feature engineering, model training, and evaluation.\n",
    "\n",
    "---\n"
   ]
  },
  {
   "cell_type": "markdown",
   "id": "40bf06ac",
   "metadata": {},
   "source": [
    "## 📌 Objective\n",
    "\n",
    "Use customer booking data to:\n",
    "- Explore factors influencing booking behavior\n",
    "- Engineer predictive features\n",
    "- Build a machine learning model to predict booking completion\n"
   ]
  },
  {
   "cell_type": "code",
   "execution_count": null,
   "id": "71c8908d",
   "metadata": {},
   "outputs": [],
   "source": [
    "# Import Libraries\n",
    "import pandas as pd\n",
    "import numpy as np\n",
    "import matplotlib.pyplot as plt\n",
    "import seaborn as sns\n",
    "\n",
    "from sklearn.model_selection import train_test_split, cross_val_score\n",
    "from sklearn.ensemble import RandomForestClassifier\n",
    "from sklearn.metrics import classification_report, roc_auc_score, confusion_matrix\n"
   ]
  },
  {
   "cell_type": "code",
   "execution_count": null,
   "id": "bf867800",
   "metadata": {},
   "outputs": [],
   "source": [
    "# Load Data\n",
    "# Dataset not included due to licensing restrictions from Forage\n",
    "df = pd.read_csv(\"customer_booking.csv\", encoding='ISO-8859-1')  # Replace with your local path\n",
    "df.head()\n"
   ]
  },
  {
   "cell_type": "code",
   "execution_count": null,
   "id": "5d4f1c42",
   "metadata": {},
   "outputs": [],
   "source": [
    "# ---------------------\n",
    "# Data Preprocessing\n",
    "# ---------------------\n",
    "\n",
    "# Feature Engineering\n",
    "df['is_weekend_flight'] = df['flight_day'].isin(['Saturday', 'Sunday']).astype(int)\n",
    "df['trip_duration_ratio'] = df['length_of_stay'] / (df['flight_duration'] + 1e-6)  # avoid division by zero\n",
    "\n",
    "def time_of_day(hour):\n",
    "    if 5 <= hour < 12:\n",
    "        return 'Morning'\n",
    "    elif 12 <= hour < 17:\n",
    "        return 'Afternoon'\n",
    "    elif 17 <= hour < 21:\n",
    "        return 'Evening'\n",
    "    else:\n",
    "        return 'Night'\n",
    "\n",
    "df['time_of_day'] = df['flight_hour'].apply(time_of_day)\n",
    "\n",
    "# Drop high cardinality columns if necessary\n",
    "df = df.drop(columns=['route'])\n",
    "\n",
    "# One-hot encode categorical features\n",
    "categorical_cols = ['sales_channel', 'trip_type', 'flight_day', 'booking_origin', 'time_of_day']\n",
    "df_encoded = pd.get_dummies(df, columns=categorical_cols, drop_first=True)\n"
   ]
  },
  {
   "cell_type": "code",
   "execution_count": null,
   "id": "f7a28828",
   "metadata": {},
   "outputs": [],
   "source": [
    "# ---------------------\n",
    "# Train/Test Split\n",
    "# ---------------------\n",
    "\n",
    "X = df_encoded.drop(columns=['booking_complete'])\n",
    "y = df_encoded['booking_complete']\n",
    "\n",
    "X_train, X_test, y_train, y_test = train_test_split(X, y, test_size=0.2, random_state=42)\n"
   ]
  },
  {
   "cell_type": "code",
   "execution_count": null,
   "id": "8e3678b7",
   "metadata": {},
   "outputs": [],
   "source": [
    "# ---------------------\n",
    "# Train Random Forest\n",
    "# ---------------------\n",
    "\n",
    "clf = RandomForestClassifier(n_estimators=100, random_state=42)\n",
    "clf.fit(X_train, y_train)\n"
   ]
  },
  {
   "cell_type": "code",
   "execution_count": null,
   "id": "753e1048",
   "metadata": {},
   "outputs": [],
   "source": [
    "# ---------------------\n",
    "# Evaluation\n",
    "# ---------------------\n",
    "\n",
    "y_pred = clf.predict(X_test)\n",
    "y_proba = clf.predict_proba(X_test)[:, 1]\n",
    "\n",
    "print(\"Classification Report:\")\n",
    "print(classification_report(y_test, y_pred))\n",
    "print(\"ROC AUC Score:\", roc_auc_score(y_test, y_proba))\n",
    "\n",
    "# Cross-validation\n",
    "cv_scores = cross_val_score(clf, X, y, cv=5, scoring='roc_auc')\n",
    "print(f\"Cross-Validated ROC AUC: {cv_scores.mean():.4f}\")\n"
   ]
  },
  {
   "cell_type": "code",
   "execution_count": null,
   "id": "88848702",
   "metadata": {},
   "outputs": [],
   "source": [
    "# Confusion Matrix\n",
    "conf_matrix = confusion_matrix(y_test, y_pred)\n",
    "sns.heatmap(conf_matrix, annot=True, fmt='d', cmap='Blues')\n",
    "plt.title(\"Confusion Matrix\")\n",
    "plt.xlabel(\"Predicted\")\n",
    "plt.ylabel(\"Actual\")\n",
    "plt.show()\n"
   ]
  },
  {
   "cell_type": "code",
   "execution_count": null,
   "id": "fd2269f9",
   "metadata": {},
   "outputs": [],
   "source": [
    "# ---------------------\n",
    "# Feature Importance\n",
    "# --------------------- \n",
    "\n",
    "importances = clf.feature_importances_\n",
    "features = X.columns\n",
    "feat_imp = pd.Series(importances, index=features).sort_values(ascending=False)\n",
    "\n",
    "# Plot top 15 features\n",
    "plt.figure(figsize=(10, 6))\n",
    "sns.barplot(x=feat_imp[:15], y=feat_imp.index[:15])\n",
    "plt.title(\"Top 15 Feature Importances\")\n",
    "plt.tight_layout()\n",
    "plt.show()\n"
   ]
  },
  {
   "cell_type": "code",
   "execution_count": null,
   "id": "f632d40e",
   "metadata": {},
   "outputs": [],
   "source": [
    "# ---------------------\n",
    "# Export Feature Importances (Optional for Slide)\n",
    "# ---------------------\n",
    "feat_imp[:15].to_csv(\"top_features.csv\")\n"
   ]
  }
 ],
 "metadata": {},
 "nbformat": 4,
 "nbformat_minor": 5
}